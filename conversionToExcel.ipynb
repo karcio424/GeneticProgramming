{
 "cells": [
  {
   "cell_type": "code",
   "execution_count": 12,
   "metadata": {},
   "outputs": [],
   "source": [
    "# Format wyjsciowy\n",
    "# x = \"((X1  * X1 ) + (-1.3674270312890457 - (-3.376987834263713 + ((-2.6380027228879044 + 2.3608469550588884) / (((3.5519318118573686 - (-3.7169987860289178 - ((1.6859504027696284 + ((-0.8494456270060535 * ((3.302262578031147 * -2.7984785588981675) + 4.175988862312552)) * (-4.006180923660173 + -4.1976552793295525))) - ((2.2420987865218542 / (((1.6859504027696284 + 1.2893344522593608) * ((((1.982741040246406 / ((-4.941606323030072 * 4.644741403080701) + (2.5497398430170417 + -4.1976552793295525))) - 4.175988862312552) + (-0.7466024479876836 - (2.7907321434672605 - 2.275505640865971))) + 4.175988862312552)) * 0.7025808046597612)) - (1.9958069516908434 * 0.6145936582147264))))) + (-2.7984785588981675 / 3.5519318118573686)) - 3.882574764537315)))))\"\n",
    "# x = \"(X1  * X1 ) + (-1.3674270312890457 - (-3.376987834263713 + ((-2.6380027228879044 + 2.3608469550588884) / (((3.5519318118573686 - (-3.7169987860289178 - ((1.6859504027696284 + ((-0.8494456270060535 * ((3.302262578031147 * -2.7984785588981675) + 4.175988862312552)) * (-4.006180923660173 + -4.1976552793295525))) - ((2.2420987865218542 / (((1.6859504027696284 + 1.2893344522593608) * ((((1.982741040246406 / ((-4.941606323030072 * 4.644741403080701) + (2.5497398430170417 + -4.1976552793295525))) - 4.175988862312552) + (-0.7466024479876836 - (2.7907321434672605 - 2.275505640865971))) + 4.175988862312552)) * 0.7025808046597612)) - (1.9958069516908434 * 0.6145936582147264))))) + (-2.7984785588981675 / 3.5519318118573686)) - 3.882574764537315))))\"\n",
    "# x = \"((-1.3674270312890457 - (-3.376987834263713 + ((-2.6380027228879044 + 2.3608469550588884) / (((3.5519318118573686 - (-3.7169987860289178 - ((1.6859504027696284 + ((-0.8494456270060535 * ((3.302262578031147 * -2.7984785588981675) + 4.175988862312552)) * (-4.006180923660173 + -4.1976552793295525))) - ((2.2420987865218542 / (((1.6859504027696284 + 1.2893344522593608) * ((((1.982741040246406 / ((-4.941606323030072 * 4.644741403080701) + (2.5497398430170417 + -4.1976552793295525))) - 4.175988862312552) + (-0.7466024479876836 - (2.7907321434672605 - 2.275505640865971))) + 4.175988862312552)) * 0.7025808046597612)) - (1.9958069516908434 * 0.6145936582147264))))) + (-2.7984785588981675 / 3.5519318118573686)) - 3.882574764537315)))))\""
   ]
  },
  {
   "cell_type": "code",
   "execution_count": 13,
   "metadata": {},
   "outputs": [],
   "source": [
    "# import numpy as np\n",
    "# temp = \"\"\n",
    "# nawias = 0\n",
    "# max_nawias = 0\n",
    "# min_nawias = 0\n",
    "\n",
    "# for i in x:\n",
    "#     if i == '(':\n",
    "#         nawias+=1\n",
    "#         max_nawias +=1\n",
    "#     elif i == ')':\n",
    "#         min_nawias +=1\n",
    "#         nawias-=1\n",
    "# print(nawias, max_nawias)\n",
    "# # tablica = np.zeros(max_nawias)\n",
    "# tablica = []\n",
    "# nawias = 0\n",
    "# max_nawias = 0\n",
    "# for i in x:\n",
    "#     # temp = \"\"\n",
    "#     if i == \" \" and len(temp)>0:\n",
    "#         # print(nawias, temp)\n",
    "#         # tablica[nawias].append(temp)\n",
    "#         tablica.append((nawias,temp))\n",
    "#         temp=\"\"\n",
    "#         continue\n",
    "#     elif i == '(':\n",
    "#         nawias+=1\n",
    "#         max_nawias+=1\n",
    "#         continue\n",
    "#     elif i == ')':\n",
    "#         if len(temp) >0:\n",
    "#             tablica.append((nawias,temp))\n",
    "#             temp=\"\"\n",
    "#         nawias-=1\n",
    "#         continue\n",
    "#     else:\n",
    "#         temp+=i"
   ]
  },
  {
   "cell_type": "code",
   "execution_count": 14,
   "metadata": {},
   "outputs": [],
   "source": [
    "# print(tablica)\n",
    "# print(max_nawias, min_nawias)"
   ]
  },
  {
   "cell_type": "code",
   "execution_count": 15,
   "metadata": {},
   "outputs": [],
   "source": [
    "# curr_nawias = 0\n",
    "# new = \"\"\n",
    "# new_tablica = []\n",
    "# for nawias,temp in tablica:\n",
    "#     if nawias != curr_nawias:\n",
    "#         curr_nawias = nawias\n",
    "#         if len(new)>0:\n",
    "#             # print(nawias, new)\n",
    "#             if new.count(' ')>=2 and 'X1' not in new and new[0]!=\" \":\n",
    "#                 print(curr_nawias, new, eval(new))\n",
    "#             new_tablica.append((curr_nawias, new))\n",
    "#             new = \"\"\n",
    "#         new += temp\n",
    "#     else:\n",
    "#         new = new + \" \" + temp \n",
    "#     # print(nawias, temp)\n",
    "# print(new_tablica)"
   ]
  },
  {
   "cell_type": "code",
   "execution_count": 16,
   "metadata": {},
   "outputs": [],
   "source": [
    "# tablica_bez_X1 = []\n",
    "# tablica_z_X1 = []\n",
    "# for i in x:\n",
    "#     if i == \" \" and len(temp)>0:\n",
    "#         # print(nawias, temp)\n",
    "#         # tablica[nawias].append(temp)\n",
    "#         tablica.append((nawias,temp))\n",
    "#         temp=\"\"\n",
    "#         continue\n",
    "#     elif i == ')':\n",
    "#         if len(temp) >0:\n",
    "#             tablica.append((nawias,temp))\n",
    "#             temp=\"\"\n",
    "#         nawias-=1\n",
    "#         continue\n",
    "#     else:\n",
    "#         temp+=i\n"
   ]
  },
  {
   "cell_type": "code",
   "execution_count": 17,
   "metadata": {},
   "outputs": [],
   "source": [
    "# def znajdz_wyrazenie_bez_X1(wejscie):\n",
    "#     poziom = 0\n",
    "#     wyrazenia_bez_X1 = []\n",
    "#     wyrazenia_z_X1 = []\n",
    "#     aktualne_wyrazenie = \"\"\n",
    "#     print(wejscie)\n",
    "\n",
    "#     for znak in wejscie:\n",
    "#         aktualne_wyrazenie += znak\n",
    "\n",
    "#         if znak == '(':\n",
    "#             poziom += 1\n",
    "#         elif znak == ')':\n",
    "#             poziom -= 1\n",
    "\n",
    "#         # print(aktualne_wyrazenie)\n",
    "#         if poziom == 0:\n",
    "#             if 'X1' not in aktualne_wyrazenie and len(aktualne_wyrazenie)>1:\n",
    "#                 wyrazenia_bez_X1.append(aktualne_wyrazenie)\n",
    "#                 aktualne_wyrazenie = \"\"\n",
    "#             else:\n",
    "#                 # print(aktualne_wyrazenie)\n",
    "#                 wyrazenia_z_X1.append(aktualne_wyrazenie)\n",
    "#                 aktualne_wyrazenie = \"\" \n",
    "\n",
    "#     return wyrazenia_bez_X1, wyrazenia_z_X1\n",
    "\n",
    "# wyrazenia_bez_X1, wyrazenia_z_X1 = znajdz_wyrazenie_bez_X1(x[1:-1])\n",
    "# print(wyrazenia_z_X1)\n",
    "# # for i, wyrazenie in enumerate(wyrazenia_bez_X1, 1):\n",
    "# #     print(f\"Wyrażenie {i}: {wyrazenie.strip()}\")"
   ]
  },
  {
   "cell_type": "code",
   "execution_count": 18,
   "metadata": {},
   "outputs": [],
   "source": [
    "# x2 = \"((X1  * ((2.486555035105649 - (X1  * (((1.500213115144053 - (4.146752459932621 * X1 )) - -4.S191109584982744) - (3.3461103827822054 + X1 )))) + ((2.3022402121102292 * (0.01047814041090156 * (0.5423142734740773 - ((0.1173300007140412 + (X1  - (X1  * (((-3.6893727461228143 / ((X1  / ((((X1  - 0.09305186767598261) + ((((4.927368356125834 - -4.335553351540385) * (-2.4149382836577358 / -0.6242907182763302)) + ((-0.645999855933546 + -4.064089423330931) - (1.1184195355611903 - 0.8700254349212821))) / (((1.1171354094521613 - ((4.927368356125834 + ((-1.1665935255909532 / (1.9884937787477543 * 3.3461103827822054)) * X1 )) - X1 )) + (-3.4899467889924574 / -1.2208388417812954)) + (((-3.14435160728923 - 2.4284276069131927) - -4.335553351540385) / (4.146752459932621 + -0.5841188131394563))))) - (X1  * (1.3309275363117221 / -0.9390592083263076))) * ((1.0300838660666596 - (((((2.3268931910138413 / -1.1665935255909532) - ((((-4.7236705575018325 - ((-4.13761256577728 / (4.866154092711163 - (-4.335553351540385 / 0.9449052869502061))) / -3.542662797101359)) - (-0.645999855933546 - -1.3981045657710722)) - ((2.2468023891699556 + (((((((-3.673358152274199 - ((0.9449052869502061 + X1 ) * (((-1.3981045657710722 / -3.740696323658521) + -4.00570201320806) * ((-2.3576709372361826 * -1.1665935255909532) + -1.0558979096380652)))) - 1.0300838660666596) * 0.8700254349212821) * (-0.3064165882559333 / -4.636205899001111)) + (2.0522613327122805 - 4.400716205554652)) - 2.4284276069131927) + ((-2.1508135989990818 / 2.0857951004440354) / -4.191109584982744))) + 4.400716205554652)) / -0.9390592083263076)) * (-1.0558979096380652 * (-3.673358152274199 - 0.1173300007140412))) - (((4.648231495641818 - ((((((((4.927368356125834 + 0.8678110801792531) - -3.673358152274199) * X1 ) + (-3.4564762485702705 / (3.259720318419417 - -4.191109584982744))) + X1 ) - 1.9006102475596638) - 1.9006102475596638) + 2.4284276069131927)) * (X1  / -2.0829650582572636)) - -4.636205899001111)) / X1 )) - ((-2.4149382836577358 * -4.6238633191306615) * -0.34708380097202074)))) + ((-0.2594289826745202 * (((1.3309275363117221 * (((((0.8990155931943775 / -3.740696323658521) + -2.9967749836501345) - (-3.118433950963555 / (-4.191109584982744 + 1.1171354094521613))) + (-3.4899467889924574 * X1 )) + -1.1665935255909532)) / -3.2147407593149735) - -2.4149382836577358)) / (0.5039979996274448 / (-3.542662797101359 + -1.575052649803398))))) + (2.3268931910138413 - (-3.542662797101359 * (X1  - ((-0.34708380097202074 + (-0.2594289826745202 / (X1  * ((2.4284276069131927 * ((-1.7850997889961437 + 4.146752459932621) + 1.0806918813337072)) + 2.0857951004440354)))) + 3.3461103827822054))))) / -0.6242907182763302)))) - 0.20232699869928972)))) / 0.9449052869502061))) - (((-3.4810979899920502 + ((1.9939597726867317 * -1.3981045657710722) + (3.306694993413469 * (4.927368356125834 / -1.3981045657710722)))) / -1.1665935255909532) - ((2.19056859835505 + -3.4810979899920502) * 1.4194592970956386)))\""
   ]
  },
  {
   "cell_type": "code",
   "execution_count": 19,
   "metadata": {},
   "outputs": [],
   "source": [
    "# wyrazenia_bez_X1, wyrazenia_z_X1 = znajdz_wyrazenie_bez_X1(x2[1:-1])\n",
    "# print(wyrazenia_z_X1)\n",
    "# print(wyrazenia_bez_X1)\n",
    "# # for i in wyrazenia_bez_X1:\n",
    "# #     print(round(eval(wyrazenia_bez_X1[0]),10))"
   ]
  },
  {
   "cell_type": "code",
   "execution_count": 20,
   "metadata": {},
   "outputs": [],
   "source": [
    "import matplotlib.pyplot as plt\n",
    "import os"
   ]
  },
  {
   "cell_type": "code",
   "execution_count": 21,
   "metadata": {},
   "outputs": [],
   "source": [
    "def plotowanie(p, k, funkcja):\n",
    "    y_axis = []\n",
    "    x_axis = []\n",
    "    krok = 0.1\n",
    "    i = int(p)\n",
    "    koniec = int(k)\n",
    "    while i < koniec:\n",
    "        X1 = i\n",
    "        if i == 0:  #unikniecie bledu dla \"done zad1 fun2 dzi2 0 7.dat\"\n",
    "            X1 = 0.00000001\n",
    "        y_axis.append(eval(funkcja))\n",
    "        x_axis.append(i)\n",
    "        i+=krok\n",
    "    \n",
    "    return x_axis, y_axis\n",
    "\n",
    "def wyznaczenie_przedzialow(nazwa_pliku):\n",
    "    tabela = nazwa_pliku[:-4].split()\n",
    "    if tabela[-1] == \"pi\":\n",
    "        return -3.14, 3.14\n",
    "    return tabela[-2], tabela[-1]\n",
    "\n",
    "def wypisz_funkcje(nazwa_pliku):\n",
    "    with open(nazwa_pliku, 'r') as plik:\n",
    "        zawartosc = plik.read()\n",
    "    if len(zawartosc)>0:\n",
    "        poczatek, koniec = wyznaczenie_przedzialow(nazwa_pliku)\n",
    "        # print(poczatek, koniec, zawartosc)\n",
    "        x, y = plotowanie(poczatek, koniec, zawartosc)\n",
    "        plt.grid(True)\n",
    "        plt.plot(x, y)\n",
    "        nazwa_obrazka = \"img\" + nazwa_pliku[nazwa_pliku.rfind(\"\\\\\")+5:-4] + \".png\"\n",
    "        print(nazwa_obrazka)\n",
    "        # if os.path.exists(nazwa_pliku):\n",
    "        #     print(f\"Plik {nazwa_pliku} już istnieje. Nadpisywanie...\")\n",
    "        #     os.remove(nazwa_pliku)\n",
    "        plt.savefig(nazwa_obrazka)\n",
    "        plt.show()\n",
    "\n",
    "def znajdz_pliki_done(folder, pattern):\n",
    "    pliki_done = []\n",
    "\n",
    "    for plik in os.listdir(folder):\n",
    "        if plik.startswith(pattern) and not plik.endswith(\"xmxp2.dat\"): #!!!!\n",
    "            pelna_sciezka = os.path.join(folder, plik)\n",
    "            pliki_done.append(pelna_sciezka)\n",
    "\n",
    "    return pliki_done"
   ]
  },
  {
   "cell_type": "code",
   "execution_count": 22,
   "metadata": {},
   "outputs": [
    {
     "ename": "NameError",
     "evalue": "name 'X2' is not defined",
     "output_type": "error",
     "traceback": [
      "\u001b[1;31m---------------------------------------------------------------------------\u001b[0m",
      "\u001b[1;31mNameError\u001b[0m                                 Traceback (most recent call last)",
      "\u001b[1;32mc:\\Users\\karol\\Desktop\\Studia\\Programowanie Genetyczne - zaliczenie\\conversionToExcel.ipynb Cell 11\u001b[0m line \u001b[0;36m7\n\u001b[0;32m      <a href='vscode-notebook-cell:/c%3A/Users/karol/Desktop/Studia/Programowanie%20Genetyczne%20-%20zaliczenie/conversionToExcel.ipynb#X13sZmlsZQ%3D%3D?line=3'>4</a>\u001b[0m pliki_done \u001b[39m=\u001b[39m znajdz_pliki_done(folder_glowny, \u001b[39m\"\u001b[39m\u001b[39mdone zad1 fun4\u001b[39m\u001b[39m\"\u001b[39m)\n\u001b[0;32m      <a href='vscode-notebook-cell:/c%3A/Users/karol/Desktop/Studia/Programowanie%20Genetyczne%20-%20zaliczenie/conversionToExcel.ipynb#X13sZmlsZQ%3D%3D?line=5'>6</a>\u001b[0m \u001b[39mfor\u001b[39;00m plik \u001b[39min\u001b[39;00m pliki_done:\n\u001b[1;32m----> <a href='vscode-notebook-cell:/c%3A/Users/karol/Desktop/Studia/Programowanie%20Genetyczne%20-%20zaliczenie/conversionToExcel.ipynb#X13sZmlsZQ%3D%3D?line=6'>7</a>\u001b[0m     wypisz_funkcje(plik)\n\u001b[0;32m      <a href='vscode-notebook-cell:/c%3A/Users/karol/Desktop/Studia/Programowanie%20Genetyczne%20-%20zaliczenie/conversionToExcel.ipynb#X13sZmlsZQ%3D%3D?line=8'>9</a>\u001b[0m \u001b[39m# TODO: implementacja obrazkow do plikow\u001b[39;00m\n",
      "\u001b[1;32mc:\\Users\\karol\\Desktop\\Studia\\Programowanie Genetyczne - zaliczenie\\conversionToExcel.ipynb Cell 11\u001b[0m line \u001b[0;36m2\n\u001b[0;32m     <a href='vscode-notebook-cell:/c%3A/Users/karol/Desktop/Studia/Programowanie%20Genetyczne%20-%20zaliczenie/conversionToExcel.ipynb#X13sZmlsZQ%3D%3D?line=26'>27</a>\u001b[0m poczatek, koniec \u001b[39m=\u001b[39m wyznaczenie_przedzialow(nazwa_pliku)\n\u001b[0;32m     <a href='vscode-notebook-cell:/c%3A/Users/karol/Desktop/Studia/Programowanie%20Genetyczne%20-%20zaliczenie/conversionToExcel.ipynb#X13sZmlsZQ%3D%3D?line=27'>28</a>\u001b[0m \u001b[39m# print(poczatek, koniec, zawartosc)\u001b[39;00m\n\u001b[1;32m---> <a href='vscode-notebook-cell:/c%3A/Users/karol/Desktop/Studia/Programowanie%20Genetyczne%20-%20zaliczenie/conversionToExcel.ipynb#X13sZmlsZQ%3D%3D?line=28'>29</a>\u001b[0m x, y \u001b[39m=\u001b[39m plotowanie(poczatek, koniec, zawartosc)\n\u001b[0;32m     <a href='vscode-notebook-cell:/c%3A/Users/karol/Desktop/Studia/Programowanie%20Genetyczne%20-%20zaliczenie/conversionToExcel.ipynb#X13sZmlsZQ%3D%3D?line=29'>30</a>\u001b[0m plt\u001b[39m.\u001b[39mgrid(\u001b[39mTrue\u001b[39;00m)\n\u001b[0;32m     <a href='vscode-notebook-cell:/c%3A/Users/karol/Desktop/Studia/Programowanie%20Genetyczne%20-%20zaliczenie/conversionToExcel.ipynb#X13sZmlsZQ%3D%3D?line=30'>31</a>\u001b[0m plt\u001b[39m.\u001b[39mplot(x, y)\n",
      "\u001b[1;32mc:\\Users\\karol\\Desktop\\Studia\\Programowanie Genetyczne - zaliczenie\\conversionToExcel.ipynb Cell 11\u001b[0m line \u001b[0;36m1\n\u001b[0;32m      <a href='vscode-notebook-cell:/c%3A/Users/karol/Desktop/Studia/Programowanie%20Genetyczne%20-%20zaliczenie/conversionToExcel.ipynb#X13sZmlsZQ%3D%3D?line=8'>9</a>\u001b[0m \u001b[39mif\u001b[39;00m i \u001b[39m==\u001b[39m \u001b[39m0\u001b[39m:  \u001b[39m#unikniecie bledu dla \"done zad1 fun2 dzi2 0 7.dat\"\u001b[39;00m\n\u001b[0;32m     <a href='vscode-notebook-cell:/c%3A/Users/karol/Desktop/Studia/Programowanie%20Genetyczne%20-%20zaliczenie/conversionToExcel.ipynb#X13sZmlsZQ%3D%3D?line=9'>10</a>\u001b[0m     X1 \u001b[39m=\u001b[39m \u001b[39m0.00000001\u001b[39m\n\u001b[1;32m---> <a href='vscode-notebook-cell:/c%3A/Users/karol/Desktop/Studia/Programowanie%20Genetyczne%20-%20zaliczenie/conversionToExcel.ipynb#X13sZmlsZQ%3D%3D?line=10'>11</a>\u001b[0m y_axis\u001b[39m.\u001b[39mappend(\u001b[39meval\u001b[39;49m(funkcja))\n\u001b[0;32m     <a href='vscode-notebook-cell:/c%3A/Users/karol/Desktop/Studia/Programowanie%20Genetyczne%20-%20zaliczenie/conversionToExcel.ipynb#X13sZmlsZQ%3D%3D?line=11'>12</a>\u001b[0m x_axis\u001b[39m.\u001b[39mappend(i)\n\u001b[0;32m     <a href='vscode-notebook-cell:/c%3A/Users/karol/Desktop/Studia/Programowanie%20Genetyczne%20-%20zaliczenie/conversionToExcel.ipynb#X13sZmlsZQ%3D%3D?line=12'>13</a>\u001b[0m i\u001b[39m+\u001b[39m\u001b[39m=\u001b[39mkrok\n",
      "File \u001b[1;32m<string>:1\u001b[0m\n",
      "\u001b[1;31mNameError\u001b[0m: name 'X2' is not defined"
     ]
    }
   ],
   "source": [
    "folder_glowny = os.getcwd() #sciezka do twojego folderu\n",
    "# pliki_done = znajdz_pliki_done(folder_glowny, \"done zad1 fun1\")\n",
    "# pliki_done = znajdz_pliki_done(folder_glowny, \"done zad1 fun2\")\n",
    "pliki_done = znajdz_pliki_done(folder_glowny, \"done zad1 fun5\")\n",
    "\n",
    "for plik in pliki_done:\n",
    "    wypisz_funkcje(plik)\n",
    "\n",
    "# TODO: implementacja obrazkow do plikow"
   ]
  }
 ],
 "metadata": {
  "kernelspec": {
   "display_name": "Python 3",
   "language": "python",
   "name": "python3"
  },
  "language_info": {
   "codemirror_mode": {
    "name": "ipython",
    "version": 3
   },
   "file_extension": ".py",
   "mimetype": "text/x-python",
   "name": "python",
   "nbconvert_exporter": "python",
   "pygments_lexer": "ipython3",
   "version": "3.11.6"
  }
 },
 "nbformat": 4,
 "nbformat_minor": 2
}
