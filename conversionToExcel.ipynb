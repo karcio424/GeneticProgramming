{
 "cells": [
  {
   "cell_type": "code",
   "execution_count": 1,
   "metadata": {},
   "outputs": [],
   "source": [
    "import matplotlib.pyplot as plt\n",
    "import os"
   ]
  },
  {
   "cell_type": "code",
   "execution_count": 2,
   "metadata": {},
   "outputs": [],
   "source": [
    "def plotowanie_jednoargumentowe(p, k, funkcja):\n",
    "    y_axis = []\n",
    "    x_axis = []\n",
    "    krok = 0.1\n",
    "    i = int(p)\n",
    "    koniec = int(k)\n",
    "    while i < koniec:\n",
    "        X1 = i\n",
    "        if i == 0:  #unikniecie bledu dla \"done zad1 fun2 dzi2 0 7.dat\"\n",
    "            X1 = 0.00000001\n",
    "        y_axis.append(eval(funkcja))\n",
    "        x_axis.append(i)\n",
    "        i+=krok\n",
    "    \n",
    "    return x_axis, y_axis\n",
    "\n",
    "def wyznaczenie_przedzialow(nazwa_pliku):\n",
    "    tabela = nazwa_pliku[:-4].split()\n",
    "    if tabela[-1] == \"pi\":\n",
    "        return -3.14, 3.14\n",
    "    return tabela[-2], tabela[-1]\n",
    "\n",
    "def wypisz_funkcje_jednoargumentowa(nazwa_pliku, sciezka_docelowa):\n",
    "    with open(nazwa_pliku, 'r') as plik:\n",
    "        zawartosc = plik.read()\n",
    "    if len(zawartosc)>0:\n",
    "        poczatek, koniec = wyznaczenie_przedzialow(nazwa_pliku)\n",
    "        x, y = plotowanie_jednoargumentowe(poczatek, koniec, zawartosc)\n",
    "        plt.grid(True)\n",
    "        plt.plot(x, y)\n",
    "        nazwa_obrazka = \"img\" + nazwa_pliku[nazwa_pliku.rfind(\"\\\\\")+5:-4] + \".png\"\n",
    "        plt.savefig(sciezka_docelowa+\"\\\\\"+nazwa_obrazka)\n",
    "        plt.show()\n",
    "        return sciezka_docelowa+\"\\\\\"+nazwa_obrazka\n",
    "    \n",
    "def plotowanie_dwuargumentowe(p, k, funkcja):\n",
    "    # TODO: do dokończenia\n",
    "    y_axis = []\n",
    "    x_axis = []\n",
    "    krok = 0.1\n",
    "    i = int(p)\n",
    "    koniec = int(k)\n",
    "    while i < koniec:\n",
    "        j = int(p)\n",
    "        X1 = i\n",
    "        # if i == 0:  #unikniecie bledu dla \"done zad1 fun2 dzi2 0 7.dat\"\n",
    "        #     X1 = 0.00000001\n",
    "        while j < koniec:\n",
    "            X2 = j\n",
    "            y_axis.append(eval(funkcja))\n",
    "            x_axis.append(i)\n",
    "        i+=krok\n",
    "    return x_axis, y_axis\n",
    "\n",
    "def wypisz_funkcje_dwuargumentowa(nazwa_pliku, sciezka_docelowa):\n",
    "    #TODO dokonczyc i zmienic\n",
    "    with open(nazwa_pliku, 'r') as plik:\n",
    "        zawartosc = plik.read()\n",
    "    if len(zawartosc)>0:\n",
    "        poczatek, koniec = wyznaczenie_przedzialow(nazwa_pliku)\n",
    "        x, y = plotowanie_dwuargumentowe(poczatek, koniec, zawartosc)\n",
    "        plt.grid(True)\n",
    "        plt.plot(x, y)\n",
    "        nazwa_obrazka = \"img\" + nazwa_pliku[nazwa_pliku.rfind(\"\\\\\")+5:-4] + \".png\"\n",
    "        plt.savefig(sciezka_docelowa+\"\\\\\"+nazwa_obrazka)\n",
    "        plt.show()\n",
    "        return sciezka_docelowa+\"\\\\\"+nazwa_obrazka\n",
    "\n",
    "def znajdz_pliki_done(folder, pattern):\n",
    "    pliki_done = []\n",
    "    folder_done = folder + \"\\\\files\\\\done\"\n",
    "    folder_img = folder + \"\\\\files\\\\img\"\n",
    "    print(folder_done)\n",
    "    print(folder_img)\n",
    "    for plik in os.listdir(folder_done):\n",
    "        if plik.startswith(pattern) and not plik.endswith(\"xmxp2.dat\"): #!!!!\n",
    "            pelna_sciezka = os.path.join(folder_done, plik)\n",
    "            nazwa = wypisz_funkcje_jednoargumentowa(pelna_sciezka, folder_img)\n",
    "            print(nazwa)\n",
    "    return pliki_done"
   ]
  },
  {
   "cell_type": "code",
   "execution_count": 5,
   "metadata": {},
   "outputs": [
    {
     "name": "stdout",
     "output_type": "stream",
     "text": [
      "c:\\Kuba-dokumenty\\Studia\\V semestr\\Programowanie genetyczne\\GeneticProgramming\\files\\done\n",
      "c:\\Kuba-dokumenty\\Studia\\V semestr\\Programowanie genetyczne\\GeneticProgramming\\files\\img\n"
     ]
    },
    {
     "ename": "NameError",
     "evalue": "name 'X2' is not defined",
     "output_type": "error",
     "traceback": [
      "\u001b[1;31m---------------------------------------------------------------------------\u001b[0m",
      "\u001b[1;31mNameError\u001b[0m                                 Traceback (most recent call last)",
      "\u001b[1;32mc:\\Kuba-dokumenty\\Studia\\V semestr\\Programowanie genetyczne\\GeneticProgramming\\conversionToExcel.ipynb Cell 3\u001b[0m line \u001b[0;36m5\n\u001b[0;32m      <a href='vscode-notebook-cell:/c%3A/Kuba-dokumenty/Studia/V%20semestr/Programowanie%20genetyczne/GeneticProgramming/conversionToExcel.ipynb#W2sZmlsZQ%3D%3D?line=0'>1</a>\u001b[0m folder_glowny \u001b[39m=\u001b[39m os\u001b[39m.\u001b[39mgetcwd() \u001b[39m#sciezka do twojego folderu\u001b[39;00m\n\u001b[0;32m      <a href='vscode-notebook-cell:/c%3A/Kuba-dokumenty/Studia/V%20semestr/Programowanie%20genetyczne/GeneticProgramming/conversionToExcel.ipynb#W2sZmlsZQ%3D%3D?line=1'>2</a>\u001b[0m \u001b[39m# print(folder_glowny)\u001b[39;00m\n\u001b[0;32m      <a href='vscode-notebook-cell:/c%3A/Kuba-dokumenty/Studia/V%20semestr/Programowanie%20genetyczne/GeneticProgramming/conversionToExcel.ipynb#W2sZmlsZQ%3D%3D?line=2'>3</a>\u001b[0m \u001b[39m# pliki_done = znajdz_pliki_done(folder_glowny, \"done zad1 fun1\")\u001b[39;00m\n\u001b[0;32m      <a href='vscode-notebook-cell:/c%3A/Kuba-dokumenty/Studia/V%20semestr/Programowanie%20genetyczne/GeneticProgramming/conversionToExcel.ipynb#W2sZmlsZQ%3D%3D?line=3'>4</a>\u001b[0m \u001b[39m# pliki_done = znajdz_pliki_done(folder_glowny, \"done zad1 fun2\")\u001b[39;00m\n\u001b[1;32m----> <a href='vscode-notebook-cell:/c%3A/Kuba-dokumenty/Studia/V%20semestr/Programowanie%20genetyczne/GeneticProgramming/conversionToExcel.ipynb#W2sZmlsZQ%3D%3D?line=4'>5</a>\u001b[0m pliki_done \u001b[39m=\u001b[39m znajdz_pliki_done(folder_glowny, \u001b[39m\"\u001b[39;49m\u001b[39mdone zad1 fun4\u001b[39;49m\u001b[39m\"\u001b[39;49m)\n\u001b[0;32m      <a href='vscode-notebook-cell:/c%3A/Kuba-dokumenty/Studia/V%20semestr/Programowanie%20genetyczne/GeneticProgramming/conversionToExcel.ipynb#W2sZmlsZQ%3D%3D?line=6'>7</a>\u001b[0m \u001b[39mfor\u001b[39;00m plik \u001b[39min\u001b[39;00m pliki_done:\n\u001b[0;32m      <a href='vscode-notebook-cell:/c%3A/Kuba-dokumenty/Studia/V%20semestr/Programowanie%20genetyczne/GeneticProgramming/conversionToExcel.ipynb#W2sZmlsZQ%3D%3D?line=7'>8</a>\u001b[0m     wypisz_funkcje(plik)\n",
      "\u001b[1;32mc:\\Kuba-dokumenty\\Studia\\V semestr\\Programowanie genetyczne\\GeneticProgramming\\conversionToExcel.ipynb Cell 3\u001b[0m line \u001b[0;36m5\n\u001b[0;32m     <a href='vscode-notebook-cell:/c%3A/Kuba-dokumenty/Studia/V%20semestr/Programowanie%20genetyczne/GeneticProgramming/conversionToExcel.ipynb#W2sZmlsZQ%3D%3D?line=47'>48</a>\u001b[0m     \u001b[39mif\u001b[39;00m plik\u001b[39m.\u001b[39mstartswith(pattern) \u001b[39mand\u001b[39;00m \u001b[39mnot\u001b[39;00m plik\u001b[39m.\u001b[39mendswith(\u001b[39m\"\u001b[39m\u001b[39mxmxp2.dat\u001b[39m\u001b[39m\"\u001b[39m): \u001b[39m#!!!!\u001b[39;00m\n\u001b[0;32m     <a href='vscode-notebook-cell:/c%3A/Kuba-dokumenty/Studia/V%20semestr/Programowanie%20genetyczne/GeneticProgramming/conversionToExcel.ipynb#W2sZmlsZQ%3D%3D?line=48'>49</a>\u001b[0m         pelna_sciezka \u001b[39m=\u001b[39m os\u001b[39m.\u001b[39mpath\u001b[39m.\u001b[39mjoin(folder_done, plik)\n\u001b[1;32m---> <a href='vscode-notebook-cell:/c%3A/Kuba-dokumenty/Studia/V%20semestr/Programowanie%20genetyczne/GeneticProgramming/conversionToExcel.ipynb#W2sZmlsZQ%3D%3D?line=49'>50</a>\u001b[0m         nazwa \u001b[39m=\u001b[39m wypisz_funkcje(pelna_sciezka, folder_img)\n\u001b[0;32m     <a href='vscode-notebook-cell:/c%3A/Kuba-dokumenty/Studia/V%20semestr/Programowanie%20genetyczne/GeneticProgramming/conversionToExcel.ipynb#W2sZmlsZQ%3D%3D?line=50'>51</a>\u001b[0m         \u001b[39mprint\u001b[39m(nazwa)\n\u001b[0;32m     <a href='vscode-notebook-cell:/c%3A/Kuba-dokumenty/Studia/V%20semestr/Programowanie%20genetyczne/GeneticProgramming/conversionToExcel.ipynb#W2sZmlsZQ%3D%3D?line=51'>52</a>\u001b[0m \u001b[39mreturn\u001b[39;00m pliki_done\n",
      "\u001b[1;32mc:\\Kuba-dokumenty\\Studia\\V semestr\\Programowanie genetyczne\\GeneticProgramming\\conversionToExcel.ipynb Cell 3\u001b[0m line \u001b[0;36m2\n\u001b[0;32m     <a href='vscode-notebook-cell:/c%3A/Kuba-dokumenty/Studia/V%20semestr/Programowanie%20genetyczne/GeneticProgramming/conversionToExcel.ipynb#W2sZmlsZQ%3D%3D?line=26'>27</a>\u001b[0m poczatek, koniec \u001b[39m=\u001b[39m wyznaczenie_przedzialow(nazwa_pliku)\n\u001b[0;32m     <a href='vscode-notebook-cell:/c%3A/Kuba-dokumenty/Studia/V%20semestr/Programowanie%20genetyczne/GeneticProgramming/conversionToExcel.ipynb#W2sZmlsZQ%3D%3D?line=27'>28</a>\u001b[0m \u001b[39m# print(poczatek, koniec, zawartosc)\u001b[39;00m\n\u001b[1;32m---> <a href='vscode-notebook-cell:/c%3A/Kuba-dokumenty/Studia/V%20semestr/Programowanie%20genetyczne/GeneticProgramming/conversionToExcel.ipynb#W2sZmlsZQ%3D%3D?line=28'>29</a>\u001b[0m x, y \u001b[39m=\u001b[39m plotowanie_jednoargumentowe(poczatek, koniec, zawartosc)\n\u001b[0;32m     <a href='vscode-notebook-cell:/c%3A/Kuba-dokumenty/Studia/V%20semestr/Programowanie%20genetyczne/GeneticProgramming/conversionToExcel.ipynb#W2sZmlsZQ%3D%3D?line=29'>30</a>\u001b[0m plt\u001b[39m.\u001b[39mgrid(\u001b[39mTrue\u001b[39;00m)\n\u001b[0;32m     <a href='vscode-notebook-cell:/c%3A/Kuba-dokumenty/Studia/V%20semestr/Programowanie%20genetyczne/GeneticProgramming/conversionToExcel.ipynb#W2sZmlsZQ%3D%3D?line=30'>31</a>\u001b[0m plt\u001b[39m.\u001b[39mplot(x, y)\n",
      "\u001b[1;32mc:\\Kuba-dokumenty\\Studia\\V semestr\\Programowanie genetyczne\\GeneticProgramming\\conversionToExcel.ipynb Cell 3\u001b[0m line \u001b[0;36m1\n\u001b[0;32m      <a href='vscode-notebook-cell:/c%3A/Kuba-dokumenty/Studia/V%20semestr/Programowanie%20genetyczne/GeneticProgramming/conversionToExcel.ipynb#W2sZmlsZQ%3D%3D?line=8'>9</a>\u001b[0m \u001b[39mif\u001b[39;00m i \u001b[39m==\u001b[39m \u001b[39m0\u001b[39m:  \u001b[39m#unikniecie bledu dla \"done zad1 fun2 dzi2 0 7.dat\"\u001b[39;00m\n\u001b[0;32m     <a href='vscode-notebook-cell:/c%3A/Kuba-dokumenty/Studia/V%20semestr/Programowanie%20genetyczne/GeneticProgramming/conversionToExcel.ipynb#W2sZmlsZQ%3D%3D?line=9'>10</a>\u001b[0m     X1 \u001b[39m=\u001b[39m \u001b[39m0.00000001\u001b[39m\n\u001b[1;32m---> <a href='vscode-notebook-cell:/c%3A/Kuba-dokumenty/Studia/V%20semestr/Programowanie%20genetyczne/GeneticProgramming/conversionToExcel.ipynb#W2sZmlsZQ%3D%3D?line=10'>11</a>\u001b[0m y_axis\u001b[39m.\u001b[39mappend(\u001b[39meval\u001b[39;49m(funkcja))\n\u001b[0;32m     <a href='vscode-notebook-cell:/c%3A/Kuba-dokumenty/Studia/V%20semestr/Programowanie%20genetyczne/GeneticProgramming/conversionToExcel.ipynb#W2sZmlsZQ%3D%3D?line=11'>12</a>\u001b[0m x_axis\u001b[39m.\u001b[39mappend(i)\n\u001b[0;32m     <a href='vscode-notebook-cell:/c%3A/Kuba-dokumenty/Studia/V%20semestr/Programowanie%20genetyczne/GeneticProgramming/conversionToExcel.ipynb#W2sZmlsZQ%3D%3D?line=12'>13</a>\u001b[0m i\u001b[39m+\u001b[39m\u001b[39m=\u001b[39mkrok\n",
      "File \u001b[1;32m<string>:1\u001b[0m\n",
      "\u001b[1;31mNameError\u001b[0m: name 'X2' is not defined"
     ]
    }
   ],
   "source": [
    "folder_glowny = os.getcwd() #sciezka do twojego folderu\n",
    "# print(folder_glowny)\n",
    "# pliki_done = znajdz_pliki_done(folder_glowny, \"done zad1 fun1\")\n",
    "# pliki_done = znajdz_pliki_done(folder_glowny, \"done zad1 fun2\")\n",
    "pliki_done = znajdz_pliki_done(folder_glowny, \"done zad1 fun4\")\n",
    "\n",
    "for plik in pliki_done:\n",
    "    wypisz_funkcje(plik)"
   ]
  }
 ],
 "metadata": {
  "kernelspec": {
   "display_name": "Python 3",
   "language": "python",
   "name": "python3"
  },
  "language_info": {
   "codemirror_mode": {
    "name": "ipython",
    "version": 3
   },
   "file_extension": ".py",
   "mimetype": "text/x-python",
   "name": "python",
   "nbconvert_exporter": "python",
   "pygments_lexer": "ipython3",
   "version": "3.10.11"
  }
 },
 "nbformat": 4,
 "nbformat_minor": 2
}
