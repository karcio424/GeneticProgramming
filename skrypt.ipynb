{
 "cells": [
  {
   "cell_type": "code",
   "execution_count": 1,
   "metadata": {},
   "outputs": [],
   "source": [
    "# Zadania1\n",
    "\n",
    "# 5 * x**3 - 2 * x**2 + 3 * x - 17\n",
    "# math.sin(x) + math.cos(x)\n",
    "# 2 * math.log(x + 1)\n",
    "\n",
    "# f(x) = 5*x^3 - 2x^2 + 3x - 17 dziedzina: [-10, 10], [0,100], [-1, 1], [-1000, 1000]\n",
    "# f(x) = sin(x) + cos(x) dziedzina: [-3.14, 3.14], [0,7], [0, 100], [-100, 100]\n",
    "# f(x) = 2* ln(x+1) dziedzina: [0,4], [0, 9], [0,99], [0,999]"
   ]
  },
  {
   "cell_type": "code",
   "execution_count": 2,
   "metadata": {},
   "outputs": [
    {
     "name": "stdout",
     "output_type": "stream",
     "text": [
      "Wyniki zostały zapisane do pliku\n"
     ]
    }
   ],
   "source": [
    "# jednej zmiennej\n",
    "\n",
    "import numpy as np\n",
    "import math\n",
    "\n",
    "# Określ zakres dziedziny funkcji\n",
    "poczatek_dziedziny = -1\n",
    "koniec_dziedziny = 1\n",
    "\n",
    "def funkcja(x):\n",
    "    return 5 * x**3 - 2 * x**2 + 3 * x - 17  # Określ postać funkcji\n",
    "\n",
    "# Określ nazwę pliku wyjściowego\n",
    "fileName = 'zad1 fun1 dzi3 -1 1.dat'\n",
    "\n",
    "# Określ krok\n",
    "krok = 0.01\n",
    "\n",
    "x = poczatek_dziedziny\n",
    "\n",
    "with open(fileName, 'w') as plik:\n",
    "    while x <= koniec_dziedziny:\n",
    "        fx = funkcja(x)\n",
    "        plik.write(f'{x:.4f}\\t{fx:.4f}\\n')\n",
    "        x += krok\n",
    "\n",
    "print(\"Wyniki zostały zapisane do pliku\")"
   ]
  },
  {
   "cell_type": "code",
   "execution_count": 3,
   "metadata": {},
   "outputs": [],
   "source": [
    "# Zadania1\n",
    "\n",
    "# x + 2 * y\n",
    "# math.sin(x / 2) + 2 * math.cos(x)\n",
    "# x**2 + 3 * x * y - 7 * y + 1\n",
    "\n",
    "# f(x,y) = x + 2*y dziedzina: x i y [0, 1], [-10, 10], [0, 100], [-1000, 1000]\n",
    "# f(x, y) = sin(x/2) + 2* cos(x) dziedzina x, y: [-3.14, 3.14], [0,7], [0, 100], [-100, 100]\n",
    "# f(x,y) = x^2 + 3x*y - 7y + 1 dziedzina x,y: [-10, 10], [0,100], [-1, 1], [-1000, 1000]"
   ]
  },
  {
   "cell_type": "code",
   "execution_count": 4,
   "metadata": {},
   "outputs": [
    {
     "name": "stdout",
     "output_type": "stream",
     "text": [
      "Wyniki zostały zapisane do pliku\n"
     ]
    }
   ],
   "source": [
    "# dwóch zmiennych\n",
    "\n",
    "import numpy as np\n",
    "import math\n",
    "\n",
    "def funkcja(x, y):\n",
    "    return x + 2*y # Określ postać funkcji\n",
    "\n",
    "# Określ zakres dziedziny funkcji\n",
    "poczatek_dziedziny = 0\n",
    "koniec_dziedziny = 100\n",
    "\n",
    "# Określ nazwę pliku wyjściowego\n",
    "fileName = 'files/data/zad1 fun4 dzi3 0 100.dat'\n",
    "\n",
    "# Określ krok\n",
    "krok = 1\n",
    "\n",
    "x = poczatek_dziedziny\n",
    "\n",
    "with open(fileName, 'w') as plik:\n",
    "    while x <= koniec_dziedziny:\n",
    "        y = poczatek_dziedziny\n",
    "        while y <= koniec_dziedziny:\n",
    "            fxy = funkcja(x, y)\n",
    "            plik.write(f'{x:.4f}\\t{y:.4f}\\t{fxy:.4f}\\n')\n",
    "            y += krok\n",
    "        x += krok\n",
    "\n",
    "print(\"Wyniki zostały zapisane do pliku\")"
   ]
  }
 ],
 "metadata": {
  "kernelspec": {
   "display_name": "Python 3",
   "language": "python",
   "name": "python3"
  },
  "language_info": {
   "codemirror_mode": {
    "name": "ipython",
    "version": 3
   },
   "file_extension": ".py",
   "mimetype": "text/x-python",
   "name": "python",
   "nbconvert_exporter": "python",
   "pygments_lexer": "ipython3",
   "version": "3.11.6"
  }
 },
 "nbformat": 4,
 "nbformat_minor": 2
}
