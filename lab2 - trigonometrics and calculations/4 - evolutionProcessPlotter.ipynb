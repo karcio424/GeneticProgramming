{
 "cells": [
  {
   "cell_type": "code",
   "execution_count": null,
   "metadata": {},
   "outputs": [],
   "source": [
    "import matplotlib.pyplot as plt\n",
    "\n",
    "best_fitness_plot_path = \"files/5 - evolution_process_analysis/best zad1 fun6 dzi3 -1 1.png\"\n",
    "avg_fitness_plot_path = \"files/5 - evolution_process_analysis/avg zad1 fun6 dzi3 -1 1.png\"\n",
    "\n",
    "file_path = \"files\\5 - evolution_process_analysis\\process zad1 fun6 dzi3 -1 1.dat\"\n",
    "with open(file_path, \"r\") as file:\n",
    "    lines = file.readlines()"
   ]
  },
  {
   "cell_type": "code",
   "execution_count": null,
   "metadata": {},
   "outputs": [],
   "source": [
    "generations = []\n",
    "best_fitness = []\n",
    "avg_fitness = []\n",
    "\n",
    "for line in lines:\n",
    "    if line.startswith(\"Generation=\"):\n",
    "        data = line.split('=')\n",
    "        generation = int(data[1].split()[0])\n",
    "        avg_fit = float(data[2].split()[0])\n",
    "        best_fit = float(data[3].split()[0])\n",
    "\n",
    "        generations.append(generation)\n",
    "        avg_fitness.append(avg_fit)\n",
    "        best_fitness.append(best_fit)\n",
    "\n",
    "plt.plot(generations, best_fitness, label='Best Fitness', color='blue')\n",
    "plt.title('Best Fitness od Generacji')\n",
    "plt.xlabel('Generacja')\n",
    "plt.ylabel('Best Fitness')\n",
    "plt.legend()\n",
    "plt.savefig(best_fitness_plot_path)\n",
    "plt.show()\n",
    "\n",
    "plt.plot(generations, avg_fitness, label='Avg Fitness', color='green')\n",
    "plt.title('Avg Fitness od Generacji')\n",
    "plt.xlabel('Generacja')\n",
    "plt.ylabel('Avg Fitness')\n",
    "plt.legend()\n",
    "plt.savefig(avg_fitness_plot_path)\n",
    "plt.show()"
   ]
  }
 ],
 "metadata": {
  "kernelspec": {
   "display_name": "Python 3",
   "language": "python",
   "name": "python3"
  },
  "language_info": {
   "codemirror_mode": {
    "name": "ipython",
    "version": 3
   },
   "file_extension": ".py",
   "mimetype": "text/x-python",
   "name": "python",
   "nbconvert_exporter": "python",
   "pygments_lexer": "ipython3",
   "version": "3.11.7"
  }
 },
 "nbformat": 4,
 "nbformat_minor": 2
}
