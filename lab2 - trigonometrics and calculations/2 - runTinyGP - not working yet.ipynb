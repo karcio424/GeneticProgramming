{
 "cells": [
  {
   "cell_type": "code",
   "execution_count": 1,
   "metadata": {},
   "outputs": [],
   "source": [
    "import os\n",
    "import subprocess\n",
    "\n",
    "def run_java_program(java_file_path, classpath, arguments=[]):\n",
    "    command = ['java', '-cp', classpath, java_file_path] + arguments\n",
    "    try:\n",
    "        subprocess.run(command, check=True)\n",
    "    except subprocess.CalledProcessError as e:\n",
    "        print(f'Błąd podczas uruchamiania programu Java: {e}')\n",
    "\n",
    "if __name__ == \"__main__\":\n",
    "    java_file_path = 'TinyGP.java'\n",
    "    classpath = './'\n",
    "    arguments = ['arg1', 'arg2']\n",
    "\n",
    "    directory_path = 'files/2 - function_calculated'\n",
    "\n",
    "    for file_name in os.listdir(directory_path):\n",
    "        if file_name.endswith('.java'):\n",
    "            java_file_path = os.path.join(directory_path, file_name)\n",
    "            run_java_program(java_file_path, classpath, arguments)"
   ]
  }
 ],
 "metadata": {
  "kernelspec": {
   "display_name": "Python 3",
   "language": "python",
   "name": "python3"
  },
  "language_info": {
   "codemirror_mode": {
    "name": "ipython",
    "version": 3
   },
   "file_extension": ".py",
   "mimetype": "text/x-python",
   "name": "python",
   "nbconvert_exporter": "python",
   "pygments_lexer": "ipython3",
   "version": "3.11.7"
  }
 },
 "nbformat": 4,
 "nbformat_minor": 2
}
